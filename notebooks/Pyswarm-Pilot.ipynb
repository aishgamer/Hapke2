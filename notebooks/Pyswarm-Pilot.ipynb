{
 "cells": [
  {
   "cell_type": "markdown",
   "metadata": {},
   "source": [
    "# Pilot for Pyswarms"
   ]
  },
  {
   "cell_type": "code",
   "execution_count": 2,
   "metadata": {},
   "outputs": [],
   "source": [
    "import matplotlib.pyplot as plt, pandas as pd, numpy as np\n",
    "from cerebrum_0130 import utils, datainsights as di\n",
    "from collections import namedtuple"
   ]
  },
  {
   "cell_type": "markdown",
   "metadata": {},
   "source": [
    "### Get Input"
   ]
  },
  {
   "cell_type": "code",
   "execution_count": 3,
   "metadata": {},
   "outputs": [
    {
     "name": "stdout",
     "output_type": "stream",
     "text": [
      "DATA:\n",
      "Shape: (46, 19)\n",
      "Columns: ['i', 'e', 'g', 'cos_g', 'w', 'b', 'c', 'cos_i', 'cos_e', 'p_g', 'K', 'gamma', 'r0', 'cos_i_k', 'cos_e_k', 'h_mu_0', 'h_mu', 'refl', 'wave']\n",
      "----------------------------------------------------------------------------------------------------\n"
     ]
    }
   ],
   "source": [
    "df = pd.read_csv('data/pyswarms_sample_1.csv')\n",
    "print('DATA:')\n",
    "print('Shape:', df.shape)\n",
    "print('Columns:', df.columns.to_list())\n",
    "print('-'*100)"
   ]
  },
  {
   "cell_type": "code",
   "execution_count": 4,
   "metadata": {},
   "outputs": [
    {
     "data": {
      "text/html": [
       "<div>\n",
       "<style scoped>\n",
       "    .dataframe tbody tr th:only-of-type {\n",
       "        vertical-align: middle;\n",
       "    }\n",
       "\n",
       "    .dataframe tbody tr th {\n",
       "        vertical-align: top;\n",
       "    }\n",
       "\n",
       "    .dataframe thead th {\n",
       "        text-align: right;\n",
       "    }\n",
       "</style>\n",
       "<table border=\"1\" class=\"dataframe\">\n",
       "  <thead>\n",
       "    <tr style=\"text-align: right;\">\n",
       "      <th></th>\n",
       "      <th>i</th>\n",
       "      <th>e</th>\n",
       "      <th>g</th>\n",
       "      <th>cos_g</th>\n",
       "      <th>w</th>\n",
       "      <th>b</th>\n",
       "      <th>c</th>\n",
       "      <th>cos_i</th>\n",
       "      <th>cos_e</th>\n",
       "      <th>p_g</th>\n",
       "      <th>K</th>\n",
       "      <th>gamma</th>\n",
       "      <th>r0</th>\n",
       "      <th>cos_i_k</th>\n",
       "      <th>cos_e_k</th>\n",
       "      <th>h_mu_0</th>\n",
       "      <th>h_mu</th>\n",
       "      <th>refl</th>\n",
       "      <th>wave</th>\n",
       "    </tr>\n",
       "  </thead>\n",
       "  <tbody>\n",
       "    <tr>\n",
       "      <th>0</th>\n",
       "      <td>10</td>\n",
       "      <td>85</td>\n",
       "      <td>-75</td>\n",
       "      <td>0.258819</td>\n",
       "      <td>0.82</td>\n",
       "      <td>0.8</td>\n",
       "      <td>0.2</td>\n",
       "      <td>0.984808</td>\n",
       "      <td>0.087156</td>\n",
       "      <td>1.127151</td>\n",
       "      <td>1.114818</td>\n",
       "      <td>0.424264</td>\n",
       "      <td>0.404234</td>\n",
       "      <td>0.883380</td>\n",
       "      <td>0.205428</td>\n",
       "      <td>1.590295</td>\n",
       "      <td>1.238203</td>\n",
       "      <td>0.142257</td>\n",
       "      <td>0.7</td>\n",
       "    </tr>\n",
       "    <tr>\n",
       "      <th>1</th>\n",
       "      <td>15</td>\n",
       "      <td>85</td>\n",
       "      <td>-70</td>\n",
       "      <td>0.342020</td>\n",
       "      <td>0.82</td>\n",
       "      <td>0.8</td>\n",
       "      <td>0.2</td>\n",
       "      <td>0.965926</td>\n",
       "      <td>0.087156</td>\n",
       "      <td>1.208709</td>\n",
       "      <td>1.114818</td>\n",
       "      <td>0.424264</td>\n",
       "      <td>0.404234</td>\n",
       "      <td>0.866442</td>\n",
       "      <td>0.205428</td>\n",
       "      <td>1.584411</td>\n",
       "      <td>1.238203</td>\n",
       "      <td>0.149938</td>\n",
       "      <td>0.7</td>\n",
       "    </tr>\n",
       "    <tr>\n",
       "      <th>2</th>\n",
       "      <td>20</td>\n",
       "      <td>85</td>\n",
       "      <td>-65</td>\n",
       "      <td>0.422618</td>\n",
       "      <td>0.82</td>\n",
       "      <td>0.8</td>\n",
       "      <td>0.2</td>\n",
       "      <td>0.939693</td>\n",
       "      <td>0.087156</td>\n",
       "      <td>1.291676</td>\n",
       "      <td>1.114818</td>\n",
       "      <td>0.424264</td>\n",
       "      <td>0.404234</td>\n",
       "      <td>0.842911</td>\n",
       "      <td>0.205428</td>\n",
       "      <td>1.576076</td>\n",
       "      <td>1.238203</td>\n",
       "      <td>0.158915</td>\n",
       "      <td>0.7</td>\n",
       "    </tr>\n",
       "    <tr>\n",
       "      <th>3</th>\n",
       "      <td>25</td>\n",
       "      <td>85</td>\n",
       "      <td>-60</td>\n",
       "      <td>0.500000</td>\n",
       "      <td>0.82</td>\n",
       "      <td>0.8</td>\n",
       "      <td>0.2</td>\n",
       "      <td>0.906308</td>\n",
       "      <td>0.087156</td>\n",
       "      <td>1.375000</td>\n",
       "      <td>1.114818</td>\n",
       "      <td>0.424264</td>\n",
       "      <td>0.404234</td>\n",
       "      <td>0.812965</td>\n",
       "      <td>0.205428</td>\n",
       "      <td>1.565191</td>\n",
       "      <td>1.238203</td>\n",
       "      <td>0.169370</td>\n",
       "      <td>0.7</td>\n",
       "    </tr>\n",
       "    <tr>\n",
       "      <th>4</th>\n",
       "      <td>30</td>\n",
       "      <td>85</td>\n",
       "      <td>-55</td>\n",
       "      <td>0.573576</td>\n",
       "      <td>0.82</td>\n",
       "      <td>0.8</td>\n",
       "      <td>0.2</td>\n",
       "      <td>0.866025</td>\n",
       "      <td>0.087156</td>\n",
       "      <td>1.457558</td>\n",
       "      <td>1.114818</td>\n",
       "      <td>0.424264</td>\n",
       "      <td>0.404234</td>\n",
       "      <td>0.776831</td>\n",
       "      <td>0.205428</td>\n",
       "      <td>1.551625</td>\n",
       "      <td>1.238203</td>\n",
       "      <td>0.181546</td>\n",
       "      <td>0.7</td>\n",
       "    </tr>\n",
       "  </tbody>\n",
       "</table>\n",
       "</div>"
      ],
      "text/plain": [
       "    i   e   g     cos_g     w    b    c     cos_i     cos_e       p_g  \\\n",
       "0  10  85 -75  0.258819  0.82  0.8  0.2  0.984808  0.087156  1.127151   \n",
       "1  15  85 -70  0.342020  0.82  0.8  0.2  0.965926  0.087156  1.208709   \n",
       "2  20  85 -65  0.422618  0.82  0.8  0.2  0.939693  0.087156  1.291676   \n",
       "3  25  85 -60  0.500000  0.82  0.8  0.2  0.906308  0.087156  1.375000   \n",
       "4  30  85 -55  0.573576  0.82  0.8  0.2  0.866025  0.087156  1.457558   \n",
       "\n",
       "          K     gamma        r0   cos_i_k   cos_e_k    h_mu_0      h_mu  \\\n",
       "0  1.114818  0.424264  0.404234  0.883380  0.205428  1.590295  1.238203   \n",
       "1  1.114818  0.424264  0.404234  0.866442  0.205428  1.584411  1.238203   \n",
       "2  1.114818  0.424264  0.404234  0.842911  0.205428  1.576076  1.238203   \n",
       "3  1.114818  0.424264  0.404234  0.812965  0.205428  1.565191  1.238203   \n",
       "4  1.114818  0.424264  0.404234  0.776831  0.205428  1.551625  1.238203   \n",
       "\n",
       "       refl  wave  \n",
       "0  0.142257   0.7  \n",
       "1  0.149938   0.7  \n",
       "2  0.158915   0.7  \n",
       "3  0.169370   0.7  \n",
       "4  0.181546   0.7  "
      ]
     },
     "execution_count": 4,
     "metadata": {},
     "output_type": "execute_result"
    }
   ],
   "source": [
    "df.head()"
   ]
  },
  {
   "cell_type": "code",
   "execution_count": 6,
   "metadata": {},
   "outputs": [],
   "source": [
    "def check_dq(df, dq_insights_file):\n",
    "    #Add hash\n",
    "    df = utils.add_hash(df, 'key')\n",
    "\n",
    "    # DQ Validation:\n",
    "    dqp = di.get_data_quality(df,dq_insights_file)\n",
    "\n",
    "    n_wave = df.wave.to_numpy()\n",
    "    n_refl = df.refl.to_numpy()\n",
    "    i_array = df.i.to_numpy()\n",
    "    e_array = df.e.to_numpy()\n",
    "    g_array = df.g.to_numpy()\n",
    "    min_wave, max_wave = n_wave.min(), n_wave.max()\n",
    "\n",
    "    return df, dqp, n_wave, n_refl, i_array, e_array, g_array, min_wave, max_wave"
   ]
  },
  {
   "cell_type": "code",
   "execution_count": 7,
   "metadata": {},
   "outputs": [],
   "source": [
    "dq_insights_file = 'cerebrum_0130/dq_insights.csv'\n",
    "df, dqp, n_wave, n_refl, i_array, e_array, g_array, min_wave, max_wave = check_dq(df, dq_insights_file)\n"
   ]
  },
  {
   "cell_type": "markdown",
   "metadata": {},
   "source": [
    "#### Show Data Insights"
   ]
  },
  {
   "cell_type": "code",
   "execution_count": 9,
   "metadata": {},
   "outputs": [
    {
     "name": "stdout",
     "output_type": "stream",
     "text": [
      "====================================================================================================\n",
      "Workspace Data\n",
      "````````````````````````````````````````````````````````````````````````````````````````````````````\n",
      "        var         |       value        |        min         |        max         \n",
      "        wave        |         46         |        0.7         |        0.7         \n",
      "        refl        |         46         |        0.12        |        0.23        \n",
      "      i_unique      |         13         |         10         |         70         \n",
      "      e_unique      |         34         |        -85         |         85         \n",
      "      g_unique      |         46         |        -75         |        155         \n",
      "----------------------------------------------------------------------------------------------------\n",
      "Data Quality\n",
      "````````````````````````````````````````````````````````````````````````````````````````````````````\n",
      "                                   Info                                    |                      Result                      \n",
      "                      Data Quality on Wave(nm) - wave                      |                       same                       \n",
      "                  Data Quality on Incident Angle(deg) - i                  |                    diff_reps                     \n",
      "                  Data Quality on Emission Angle(deg) - e                  |                    diff_reps                     \n",
      "                   Data Quality on Phase Angle(deg) - g                    |                   diff_no_reps                   \n",
      "                        Data Quality on Opp. Surge                         |                  surge_cnt_met                   \n",
      "                    Data Quality on Shadow Hiding - Bs                     |        Sufficient Data for Shadow Hiding         \n",
      "                   Data Quality on Coherence Ratio - Bc                    |       Sufficient Data for Coherence Ratio        \n",
      "  Data Quality on Phase Angle Coverage (Need more than 27 percent filled)  |                        1                         \n",
      "                           Preprocess: Can crop?                           |                        no                        \n",
      "                      Total Unique i,e,g combinations                      |                   more_than_n                    \n",
      "                    Data Process Satus Reccommendation                     |                      orange                      \n",
      "====================================================================================================\n"
     ]
    },
    {
     "data": {
      "text/plain": [
       "<AxesSubplot:xlabel='Phase', ylabel='refl'>"
      ]
     },
     "execution_count": 9,
     "metadata": {},
     "output_type": "execute_result"
    },
    {
     "data": {
      "image/png": "[encoded data removed]",
      "text/plain": [
       "<Figure size 360x288 with 1 Axes>"
      ]
     },
     "metadata": {
      "needs_background": "light"
     },
     "output_type": "display_data"
    }
   ],
   "source": [
    "wsdata = []\n",
    "itable = namedtuple('itable',['var','value','min','max'])\n",
    "wsdata.append(itable('wave',  n_wave.shape[0], round(min_wave,2), round(max_wave,2)))\n",
    "wsdata.append(itable('refl',  n_refl.shape[0], round(n_refl.min(),2), round(n_refl.max(),2)))\n",
    "wsdata.append(itable('i_unique',  int(dqp['i_count']), int(round(i_array.min(),2)), int(round(i_array.max(),2))))\n",
    "wsdata.append(itable('e_unique',  int(dqp['e_count']), int(round(e_array.min(),2)), int(round(e_array.max(),2))))\n",
    "wsdata.append(itable('g_unique',  int(dqp['g_count']), int(round(g_array.min(),2)), int(round(g_array.max(),2))))\n",
    "\n",
    "dq = namedtuple('dq',['info','result'])\n",
    "dq_results = []\n",
    "dq_results.append(dq('Data Quality on Wave(nm) - wave', dqp['wave_scenario']))\n",
    "dq_results.append(dq('Data Quality on Incident Angle(deg) - i', dqp['incident_angle_scenario']))\n",
    "dq_results.append(dq('Data Quality on Emission Angle(deg) - e', dqp['emmission_angle_scenario']))\n",
    "dq_results.append(dq('Data Quality on Phase Angle(deg) - g', dqp['phase_angle_scenario']))\n",
    "dq_results.append(dq('Data Quality on Opp. Surge', dqp['opp_surge_scenario']))\n",
    "dq_results.append(dq('Data Quality on Shadow Hiding - Bs', dqp['ext_bs_scenario']))\n",
    "dq_results.append(dq('Data Quality on Coherence Ratio - Bc', dqp['ext_coh_ratio_scenario']))\n",
    "dq_results.append(dq('Data Quality on Phase Angle Coverage (Need more than 27 percent filled)', dqp['g_covg']))\n",
    "dq_results.append(dq('Preprocess: Can crop?', dqp['scene'].pp_crop.values[0]))\n",
    "dq_results.append(dq('Total Unique i,e,g combinations', dqp['all_angles_cnt']))\n",
    "dq_results.append(dq('Data Process Satus Reccommendation', dqp['process_status']))\n",
    "\n",
    "print('='*100)\n",
    "print('Workspace Data')\n",
    "print('`'*100)\n",
    "row = \"{name1:^20}|{name2:^20}|{name3:^20}|{name4:^20}\".format\n",
    "print(row(name1='var', name2='value', name3='min', name4='max'))\n",
    "for tup in wsdata:\n",
    "    print(row(name1=tup[0], name2=tup[1], name3=tup[2],name4=tup[3]))\n",
    "print('-'*100)\n",
    "print('Data Quality')\n",
    "print('`'*100)\n",
    "row = \"{name1:^75}|{name2:^50}\".format\n",
    "print(row(name1='Info', name2='Result'))\n",
    "for tup in dq_results:\n",
    "    print(row(name1=tup[0], name2=tup[1]))\n",
    "print('='*100)\n",
    "\n",
    "df.plot('g', 'refl','scatter',figsize=(5,4), fontsize=7, xlabel='Phase')\n"
   ]
  },
  {
   "cell_type": "markdown",
   "metadata": {},
   "source": [
    "### Calculate Model Reflectance\n",
    "\n",
    "- Need all variables\n",
    "- Missing Bc0, Bs0\n",
    "- To calculate Bc, Bs - need hc, hs\n",
    "- Need interpretation of below: what is Dmin, Dmax or is it any other surface\n",
    "- hs = (3 * (3**1/2)/8) * ((PoreK * ff)/np.log(D_min/D_mx)\n",
    "- in any other surface:: hs = (3* PoreK * ff / 8)\n",
    "\n",
    "- What are the vars in path\n",
    "- hc = (lamda / 4 * math.pi * path)\n",
    "- path = [PoreK*N*σ*QS(1−ξ)]−1\n",
    "- path = (2/3)(D/(PoreK*ff*Qs(1-ξ)))"
   ]
  },
  {
   "cell_type": "code",
   "execution_count": null,
   "metadata": {},
   "outputs": [],
   "source": [
    "#variables that have upper and lower bounds = w, b, c\n",
    "#calc_refl = w/4pi * (1/(mu0 + mu)) *(Pg * H(mu0) * H(mu) - 1)\n",
    "# w/4pi = refl/(1/(mu0 + mu)) *(Pg * H(mu0) * H(mu) - 1)\n",
    "# w = refl*4pi/ (1/(mu0 + mu)) *(Pg * H(mu0) * H(mu) - 1)\n",
    "\n",
    "# calc_refl = w/4pi * (1/(cosi + cose))* (Pg * H(cosi) * H(cose) -1)\n",
    "def get_fn_constants(df):\n",
    "    mu_i = np.cos(df.i_rad)\n",
    "    mu_e = np.cos(df.e_rad)\n",
    "    cosg = np.cos(df.g_rad)\n",
    "    \n",
    "    H_mu_i = (1 + 2*mu_i) / (1 - 2*mu_i)\n",
    "    H_mu_e = (1 + 2*mu_e) / (1 - 2*mu_e)\n",
    "\n",
    "    t2 = mu_i / (mu_i + mu_e)\n",
    "    t3 = (H_mu_i * H_mu_e)-1\n",
    "    \n",
    "    return cosg, t2, t3\n",
    "\n",
    "def hapke_invert():\n",
    "    #simplified hapke model that can be mathematically inverted for w\n",
    "    w_guess = (refl*4*math.pi) \n",
    "\n",
    "    return w_guess\n",
    "\n",
    "\n",
    "data_cnt=len(data)\n",
    "w=np.zeros(data_cnt)\n",
    "\n",
    "\n",
    "\n",
    "\n",
    "\n",
    "def small_hapke(w,b,c,cosg,t2,t3):\n",
    "    t1 = w/(4*math.pi)\n",
    "    Pg = 1 + (b * cosg) + c * (1.5 * (cosg)**2 - 0.5)\n",
    "    cal_refl = (t1 * t2 * (Pg + t3))\n",
    "    return cal_refl\n",
    "\n",
    "def obj_fcn(calc_refl, refl):\n",
    "   loss += ((rc - actual)**2).sum() \n"
   ]
  },
  {
   "cell_type": "code",
   "execution_count": null,
   "metadata": {},
   "outputs": [],
   "source": [
    " #The bounds for Legendre Function - -1.7 <= b <= 1.7, -1 <= c <= 2\n",
    "#bguess = 0.5\n",
    "#cguess = 0.2\n",
    "#lowerbound w = w_guesw-0.2\n",
    "#upperbound w = wguess +0.2\n",
    "\n",
    "#do constraints have fuzzy logic?\n",
    "#can constrains be made to have the deviation in w be less than the deviation in b from some point? Like a min deviation? or (b[i]-b[i+1])/b[i] < (w[i]-w[i+1])/w[i] how do you scale that to percent?\n"
   ]
  },
  {
   "cell_type": "code",
   "execution_count": null,
   "metadata": {},
   "outputs": [],
   "source": [
    "from pyswarms import pso\n",
    "\n",
    "#assume x[0] - w and x[1] b and x[2] is c\n",
    "\n",
    "def banana(x):\n",
    "\n",
    "    w=x[0]\n",
    "    b=x[1]\n",
    "    c=x[2]\n",
    "\n",
    "\n",
    "    #sum lsqs all data - all model\n",
    "    #df.rc will have to be a numpy array, which means it has to be\n",
    "    return np.sum(np.sqrt((cal_refl-refl)**2),axis=1)\n",
    "\n",
    "def con(x):\n",
    "\n"
   ]
  },
  {
   "cell_type": "markdown",
   "metadata": {},
   "source": []
  }
 ],
 "metadata": {
  "interpreter": {
   "hash": "819109a301ae486df47d31480f1855af6a8fc0f18ef9fd8b03feff93df607e90"
  },
  "kernelspec": {
   "display_name": "Python 3.9.7 64-bit ('.hapke2v2-env': venv)",
   "language": "python",
   "name": "python3"
  },
  "language_info": {
   "codemirror_mode": {
    "name": "ipython",
    "version": 3
   },
   "file_extension": ".py",
   "mimetype": "text/x-python",
   "name": "python",
   "nbconvert_exporter": "python",
   "pygments_lexer": "ipython3",
   "version": "3.7.9"
  },
  "orig_nbformat": 4
 },
 "nbformat": 4,
 "nbformat_minor": 2
}
