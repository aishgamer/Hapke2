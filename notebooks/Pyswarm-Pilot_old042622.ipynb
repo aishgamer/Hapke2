{
 "cells": [
  {
   "cell_type": "markdown",
   "metadata": {},
   "source": [
    "# Pilot for Pyswarms"
   ]
  },
  {
   "cell_type": "code",
   "execution_count": 11,
   "metadata": {},
   "outputs": [],
   "source": [
    "import matplotlib.pyplot as plt, pandas as pd, numpy as np\n",
    "from cerebrum_0130 import utils, datainsights as di\n",
    "from collections import namedtuple\n",
    "import math \n",
    "from pyswarm import pso"
   ]
  },
  {
   "cell_type": "markdown",
   "metadata": {},
   "source": [
    "### Get Input"
   ]
  },
  {
   "cell_type": "code",
   "execution_count": 7,
   "metadata": {},
   "outputs": [
    {
     "name": "stdout",
     "output_type": "stream",
     "text": [
      "DATA:\n",
      "Shape: (30, 19)\n",
      "Columns: ['i', 'e', 'g', 'cos_g', 'w', 'b', 'c', 'cos_i', 'cos_e', 'p_g', 'K', 'gamma', 'r0', 'cos_i_k', 'cos_e_k', 'h_mu_0', 'h_mu', 'refl', 'wave']\n",
      "----------------------------------------------------------------------------------------------------\n"
     ]
    }
   ],
   "source": [
    "df = pd.read_csv('data/pyswarms_sample_1.csv')\n",
    "print('DATA:')\n",
    "print('Shape:', df.shape)\n",
    "print('Columns:', df.columns.to_list())\n",
    "print('-'*100)"
   ]
  },
  {
   "cell_type": "code",
   "execution_count": 8,
   "metadata": {},
   "outputs": [],
   "source": [
    "def check_dq(df, dq_insights_file):\n",
    "    #Add hash\n",
    "    df = utils.add_hash(df, 'key')\n",
    "\n",
    "    # DQ Validation:\n",
    "    dqp = di.get_data_quality(df,dq_insights_file)\n",
    "\n",
    "    n_wave = df.wave.to_numpy()\n",
    "    n_refl = df.refl.to_numpy()\n",
    "    i_array = df.i.to_numpy()\n",
    "    e_array = df.e.to_numpy()\n",
    "    g_array = df.g.to_numpy()\n",
    "    min_wave, max_wave = n_wave.min(), n_wave.max()\n",
    "\n",
    "    return df, dqp, n_wave, n_refl, i_array, e_array, g_array, min_wave, max_wave"
   ]
  },
  {
   "cell_type": "code",
   "execution_count": 9,
   "metadata": {},
   "outputs": [],
   "source": [
    "dq_insights_file = 'cerebrum_0130/dq_insights.csv'\n",
    "df, dqp, n_wave, n_refl, i_array, e_array, g_array, min_wave, max_wave = check_dq(df, dq_insights_file)\n"
   ]
  },
  {
   "cell_type": "markdown",
   "metadata": {},
   "source": [
    "#### Show Data Insights"
   ]
  },
  {
   "cell_type": "code",
   "execution_count": 19,
   "metadata": {},
   "outputs": [
    {
     "name": "stdout",
     "output_type": "stream",
     "text": [
      "====================================================================================================\n",
      "Workspace Data\n",
      "````````````````````````````````````````````````````````````````````````````````````````````````````\n",
      "        var         |       value        |        min         |        max         \n",
      "        wave        |         30         |        0.7         |        0.7         \n",
      "        refl        |         30         |        0.12        |        0.19        \n",
      "      i_unique      |         6          |         45         |         70         \n",
      "      e_unique      |         25         |        -85         |         43         \n",
      "      g_unique      |         30         |         2          |        155         \n",
      "----------------------------------------------------------------------------------------------------\n",
      "Data Quality\n",
      "````````````````````````````````````````````````````````````````````````````````````````````````````\n",
      "                                   Info                                    |                      Result                      \n",
      "                      Data Quality on Wave(nm) - wave                      |                       same                       \n",
      "                  Data Quality on Incident Angle(deg) - i                  |                    diff_reps                     \n",
      "                  Data Quality on Emission Angle(deg) - e                  |                    diff_reps                     \n",
      "                   Data Quality on Phase Angle(deg) - g                    |                   diff_no_reps                   \n",
      "                        Data Quality on Opp. Surge                         |                  surge_cnt_met                   \n",
      "                    Data Quality on Shadow Hiding - Bs                     |        Sufficient Data for Shadow Hiding         \n",
      "                   Data Quality on Coherence Ratio - Bc                    |   Insufficient Data points for Coherence Ratio   \n",
      "  Data Quality on Phase Angle Coverage (Need more than 27 percent filled)  |                        1                         \n",
      "                           Preprocess: Can crop?                           |                        no                        \n",
      "                      Total Unique i,e,g combinations                      |                   more_than_n                    \n",
      "                    Data Process Satus Reccommendation                     |                      orange                      \n",
      "====================================================================================================\n"
     ]
    },
    {
     "data": {
      "text/plain": [
       "<AxesSubplot:xlabel='wave(nm)', ylabel='refl'>"
      ]
     },
     "execution_count": 19,
     "metadata": {},
     "output_type": "execute_result"
    },
    {
     "data": {
      "image/png": "[encoded data removed]",
      "text/plain": [
       "<Figure size 360x288 with 1 Axes>"
      ]
     },
     "metadata": {
      "needs_background": "light"
     },
     "output_type": "display_data"
    }
   ],
   "source": [
    "wsdata = []\n",
    "itable = namedtuple('itable',['var','value','min','max'])\n",
    "wsdata.append(itable('wave',  n_wave.shape[0], round(min_wave,2), round(max_wave,2)))\n",
    "wsdata.append(itable('refl',  n_refl.shape[0], round(n_refl.min(),2), round(n_refl.max(),2)))\n",
    "wsdata.append(itable('i_unique',  int(dqp['i_count']), int(round(i_array.min(),2)), int(round(i_array.max(),2))))\n",
    "wsdata.append(itable('e_unique',  int(dqp['e_count']), int(round(e_array.min(),2)), int(round(e_array.max(),2))))\n",
    "wsdata.append(itable('g_unique',  int(dqp['g_count']), int(round(g_array.min(),2)), int(round(g_array.max(),2))))\n",
    "\n",
    "dq = namedtuple('dq',['info','result'])\n",
    "dq_results = []\n",
    "dq_results.append(dq('Data Quality on Wave(nm) - wave', dqp['wave_scenario']))\n",
    "dq_results.append(dq('Data Quality on Incident Angle(deg) - i', dqp['incident_angle_scenario']))\n",
    "dq_results.append(dq('Data Quality on Emission Angle(deg) - e', dqp['emmission_angle_scenario']))\n",
    "dq_results.append(dq('Data Quality on Phase Angle(deg) - g', dqp['phase_angle_scenario']))\n",
    "dq_results.append(dq('Data Quality on Opp. Surge', dqp['opp_surge_scenario']))\n",
    "dq_results.append(dq('Data Quality on Shadow Hiding - Bs', dqp['ext_bs_scenario']))\n",
    "dq_results.append(dq('Data Quality on Coherence Ratio - Bc', dqp['ext_coh_ratio_scenario']))\n",
    "dq_results.append(dq('Data Quality on Phase Angle Coverage (Need more than 27 percent filled)', dqp['g_covg']))\n",
    "dq_results.append(dq('Preprocess: Can crop?', dqp['scene'].pp_crop.values[0]))\n",
    "dq_results.append(dq('Total Unique i,e,g combinations', dqp['all_angles_cnt']))\n",
    "dq_results.append(dq('Data Process Satus Reccommendation', dqp['process_status']))\n",
    "\n",
    "print('='*100)\n",
    "print('Workspace Data')\n",
    "print('`'*100)\n",
    "row = \"{name1:^20}|{name2:^20}|{name3:^20}|{name4:^20}\".format\n",
    "print(row(name1='var', name2='value', name3='min', name4='max'))\n",
    "for tup in wsdata:\n",
    "    print(row(name1=tup[0], name2=tup[1], name3=tup[2],name4=tup[3]))\n",
    "print('-'*100)\n",
    "print('Data Quality')\n",
    "print('`'*100)\n",
    "row = \"{name1:^75}|{name2:^50}\".format\n",
    "print(row(name1='Info', name2='Result'))\n",
    "for tup in dq_results:\n",
    "    print(row(name1=tup[0], name2=tup[1]))\n",
    "print('='*100)\n",
    "\n",
    "df.plot('wave', 'refl','scatter',figsize=(5,4), fontsize=7, xlabel='wave(nm)')\n"
   ]
  },
  {
   "cell_type": "markdown",
   "metadata": {},
   "source": [
    "### Calculate Model Reflectance\n",
    "\n",
    "- Need all variables\n",
    "- Missing Bc0, Bs0\n",
    "- To calculate Bc, Bs - need hc, hs\n",
    "- Need interpretation of below: what is Dmin, Dmax or is it any other surface\n",
    "- hs = (3 * (3**1/2)/8) * ((PoreK * ff)/np.log(D_min/D_mx)\n",
    "- in any other surface:: hs = (3* PoreK * ff / 8)\n",
    "\n",
    "- What are the vars in path\n",
    "- hc = (lamda / 4 * math.pi * path)\n",
    "- path = [PoreK*N*σ*QS(1−ξ)]−1\n",
    "- path = (2/3)(D/(PoreK*ff*Qs(1-ξ)))"
   ]
  },
  {
   "cell_type": "markdown",
   "metadata": {},
   "source": []
  }
 ],
 "metadata": {
  "kernelspec": {
   "display_name": "Python 3.9.13 ('.hapke2-eli-env': venv)",
   "language": "python",
   "name": "python3"
  },
  "language_info": {
   "codemirror_mode": {
    "name": "ipython",
    "version": 3
   },
   "file_extension": ".py",
   "mimetype": "text/x-python",
   "name": "python",
   "nbconvert_exporter": "python",
   "pygments_lexer": "ipython3",
   "version": "3.9.13"
  },
  "orig_nbformat": 4,
  "vscode": {
   "interpreter": {
    "hash": "8923e1f400a0e6e139d9df702adfe7cd22db5e28bac0c57ed38b3c71a2b045fb"
   }
  }
 },
 "nbformat": 4,
 "nbformat_minor": 2
}
